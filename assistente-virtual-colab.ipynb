{
  "cells": [
    {
      "cell_type": "markdown",
      "metadata": {
        "id": "view-in-github",
        "colab_type": "text"
      },
      "source": [
        "<a href=\"https://colab.research.google.com/github/solon-exe/assistente-virtual-colab/blob/main/assistente-virtual-colab.ipynb\" target=\"_parent\"><img src=\"https://colab.research.google.com/assets/colab-badge.svg\" alt=\"Open In Colab\"/></a>"
      ]
    },
    {
      "cell_type": "code",
      "source": [
        "!pip install gTTS\n",
        "!pip install SpeechRecognition\n",
        "!pip install wikipedia\n",
        "!pip install pyjokes"
      ],
      "metadata": {
        "id": "pUmb1XkhW-rY",
        "outputId": "a4ab240e-74eb-4ba4-8151-fc030e43a713",
        "colab": {
          "base_uri": "https://localhost:8080/"
        }
      },
      "execution_count": 20,
      "outputs": [
        {
          "output_type": "stream",
          "name": "stdout",
          "text": [
            "Requirement already satisfied: gTTS in /usr/local/lib/python3.11/dist-packages (2.5.4)\n",
            "Requirement already satisfied: requests<3,>=2.27 in /usr/local/lib/python3.11/dist-packages (from gTTS) (2.32.3)\n",
            "Requirement already satisfied: click<8.2,>=7.1 in /usr/local/lib/python3.11/dist-packages (from gTTS) (8.1.8)\n",
            "Requirement already satisfied: charset-normalizer<4,>=2 in /usr/local/lib/python3.11/dist-packages (from requests<3,>=2.27->gTTS) (3.4.2)\n",
            "Requirement already satisfied: idna<4,>=2.5 in /usr/local/lib/python3.11/dist-packages (from requests<3,>=2.27->gTTS) (3.10)\n",
            "Requirement already satisfied: urllib3<3,>=1.21.1 in /usr/local/lib/python3.11/dist-packages (from requests<3,>=2.27->gTTS) (2.4.0)\n",
            "Requirement already satisfied: certifi>=2017.4.17 in /usr/local/lib/python3.11/dist-packages (from requests<3,>=2.27->gTTS) (2025.6.15)\n",
            "Requirement already satisfied: SpeechRecognition in /usr/local/lib/python3.11/dist-packages (3.14.3)\n",
            "Requirement already satisfied: typing-extensions in /usr/local/lib/python3.11/dist-packages (from SpeechRecognition) (4.14.0)\n",
            "Requirement already satisfied: wikipedia in /usr/local/lib/python3.11/dist-packages (1.4.0)\n",
            "Requirement already satisfied: beautifulsoup4 in /usr/local/lib/python3.11/dist-packages (from wikipedia) (4.13.4)\n",
            "Requirement already satisfied: requests<3.0.0,>=2.0.0 in /usr/local/lib/python3.11/dist-packages (from wikipedia) (2.32.3)\n",
            "Requirement already satisfied: charset-normalizer<4,>=2 in /usr/local/lib/python3.11/dist-packages (from requests<3.0.0,>=2.0.0->wikipedia) (3.4.2)\n",
            "Requirement already satisfied: idna<4,>=2.5 in /usr/local/lib/python3.11/dist-packages (from requests<3.0.0,>=2.0.0->wikipedia) (3.10)\n",
            "Requirement already satisfied: urllib3<3,>=1.21.1 in /usr/local/lib/python3.11/dist-packages (from requests<3.0.0,>=2.0.0->wikipedia) (2.4.0)\n",
            "Requirement already satisfied: certifi>=2017.4.17 in /usr/local/lib/python3.11/dist-packages (from requests<3.0.0,>=2.0.0->wikipedia) (2025.6.15)\n",
            "Requirement already satisfied: soupsieve>1.2 in /usr/local/lib/python3.11/dist-packages (from beautifulsoup4->wikipedia) (2.7)\n",
            "Requirement already satisfied: typing-extensions>=4.0.0 in /usr/local/lib/python3.11/dist-packages (from beautifulsoup4->wikipedia) (4.14.0)\n",
            "Requirement already satisfied: pyjokes in /usr/local/lib/python3.11/dist-packages (0.8.3)\n"
          ]
        }
      ]
    },
    {
      "cell_type": "code",
      "source": [
        "from gtts import gTTS\n",
        "from IPython.display import Audio, display, clear_output\n",
        "import wikipedia\n",
        "import pyjokes\n",
        "import webbrowser\n",
        "import os\n",
        "from datetime import datetime\n",
        "import ipywidgets as widgets"
      ],
      "metadata": {
        "id": "AyBtKKXnXAzh"
      },
      "execution_count": 34,
      "outputs": []
    },
    {
      "cell_type": "code",
      "source": [
        "def speak(text, lang='en', slow=False):\n",
        "    \"\"\"\n",
        "    Gera um arquivo mp3 via gTTS e exibe controle de áudio no notebook.\n",
        "    \"\"\"\n",
        "    tts = gTTS(text=text, lang=lang, slow=slow)\n",
        "    filename = \"/content/voice.mp3\"\n",
        "    tts.save(filename)\n",
        "    display(Audio(filename, autoplay=True))"
      ],
      "metadata": {
        "id": "GaYz_yb6XEHB"
      },
      "execution_count": 35,
      "outputs": []
    },
    {
      "cell_type": "code",
      "source": [
        "def get_audio():\n",
        "    \"\"\"\n",
        "    Simula a captura de voz pedindo um input de texto no notebook.\n",
        "    Retorna a mensagem em minúsculas.\n",
        "    \"\"\"\n",
        "    frase = input(\"Você (digite o que falaria): \")\n",
        "    return frase.lower()"
      ],
      "metadata": {
        "id": "7B_cev_OXG05"
      },
      "execution_count": 36,
      "outputs": []
    },
    {
      "cell_type": "code",
      "source": [
        "def respond(text):\n",
        "    print(f\"[COMANDO RECEBIDO] {text}\")\n",
        "\n",
        "    if 'youtube' in text:\n",
        "        speak(\"What do you want to search for?\", lang='en')\n",
        "        keyword = get_audio()\n",
        "        if keyword:\n",
        "            url = f\"https://www.youtube.com/results?search_query={keyword.replace(' ', '+')}\"\n",
        "            webbrowser.open(url)\n",
        "            speak(f\"Here is what I found for {keyword} on YouTube.\", lang='en')\n",
        "\n",
        "    elif 'search' in text or 'pesquisar' in text:\n",
        "        speak(\"What do you want to search for?\", lang='en')\n",
        "        query = get_audio()\n",
        "        if query:\n",
        "            resumo = wikipedia.summary(query, sentences=2, lang='en')\n",
        "            speak(\"According to Wikipedia:\", lang='en')\n",
        "            print(resumo)\n",
        "            speak(resumo, lang='en')\n",
        "\n",
        "    elif 'joke' in text or 'piada' in text:\n",
        "        joke = pyjokes.get_joke()\n",
        "        print(joke)\n",
        "        speak(joke, lang='en')\n",
        "\n",
        "    elif 'time' in text or 'hora' in text:\n",
        "        now = datetime.now().strftime(\"%H:%M\")\n",
        "        print(f\"Hora atual: {now}\")\n",
        "        speak(f\"The current time is {now}\", lang='en')\n",
        "\n",
        "    elif 'farmácia' in text:\n",
        "        url = \"https://www.google.com/maps/search/farmácia+próxima\"\n",
        "        webbrowser.open(url)\n",
        "        speak(\"Here are the nearest pharmacies.\", lang='en')\n",
        "\n",
        "    elif 'exit' in text or 'sair' in text or 'encerrar' in text:\n",
        "        speak(\"Goodbye! See you soon.\", lang='en')\n",
        "        return False\n",
        "\n",
        "    else:\n",
        "        speak(\"Sorry, I did not understand that.\", lang='en')\n",
        "\n",
        "    return True\n"
      ],
      "metadata": {
        "id": "8hHMNFKsXKeS"
      },
      "execution_count": 37,
      "outputs": []
    },
    {
      "cell_type": "code",
      "source": [
        "speak(\"Hello! I'm your virtual assistant. How can I help you?\", lang='en')"
      ],
      "metadata": {
        "id": "xpwuqDZkbPQk",
        "outputId": "94f3dabc-ea80-4606-d7c1-83d0043940d9",
        "colab": {
          "base_uri": "https://localhost:8080/",
          "height": 61
        }
      },
      "execution_count": 39,
      "outputs": [
        {
          "output_type": "display_data",
          "data": {
            "text/plain": [
              "<IPython.lib.display.Audio object>"
            ],
            "text/html": [
              "\n",
              "                <audio  controls=\"controls\" autoplay=\"autoplay\">\n",
              "                    <source src=\"data:audio/mpeg;base64,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\" type=\"audio/mpeg\" />\n",
              "                    Your browser does not support the audio element.\n",
              "                </audio>\n",
              "              "
            ]
          },
          "metadata": {}
        }
      ]
    },
    {
      "cell_type": "code",
      "source": [
        "input_box = widgets.Text(\n",
        "    placeholder='Digite um comando: joke, search, time, exit...',\n",
        "    description='Comando:',\n",
        "    layout=widgets.Layout(width='70%')\n",
        ")\n",
        "button = widgets.Button(description='Enviar')\n",
        "output_area = widgets.Output()\n",
        "\n",
        "def on_button_clicked(b):\n",
        "    comando = input_box.value.lower().strip()\n",
        "    input_box.value = ''\n",
        "    with output_area:\n",
        "        clear_output()\n",
        "        if comando:\n",
        "            continuar = respond(comando)\n",
        "            if not continuar:\n",
        "                input_box.disabled = True\n",
        "                button.disabled = True\n",
        "                print(\"Assistente encerrado.\")\n",
        "\n",
        "display(widgets.VBox([input_box, button, output_area]))\n",
        "button.on_click(on_button_clicked)"
      ],
      "metadata": {
        "id": "yDCjcH3LXNmB",
        "outputId": "a959a463-087c-45ba-db35-289de59cdd48",
        "colab": {
          "base_uri": "https://localhost:8080/",
          "height": 161,
          "referenced_widgets": [
            "705e1731c3d24f87ad97d658962d971c",
            "b1ee3833289643a58838847908714f96",
            "1930a86d8d39480db647108f0bd829d5",
            "0ef43e49d24145f6b6234a4242d05bb3",
            "741b9e16cdba4354901c19438a465b86",
            "a33955fe74b54e0ba08c9b8a63e99811",
            "b429d923a5d541dc9470ce918581d73c",
            "65282ba7d31c4483b241210ea78d837a",
            "e6cb2dd0c77b4c25a7be6f9324420660",
            "9c16aa030ce0435f856f1edd2224c56f"
          ]
        }
      },
      "execution_count": 38,
      "outputs": [
        {
          "output_type": "display_data",
          "data": {
            "text/plain": [
              "VBox(children=(Text(value='', description='Comando:', layout=Layout(width='70%'), placeholder='Digite um coman…"
            ],
            "application/vnd.jupyter.widget-view+json": {
              "version_major": 2,
              "version_minor": 0,
              "model_id": "705e1731c3d24f87ad97d658962d971c"
            }
          },
          "metadata": {}
        }
      ]
    }
  ],
  "metadata": {
    "colab": {
      "name": "Conheça o Colab",
      "toc_visible": true,
      "provenance": [],
      "include_colab_link": true
    },
    "kernelspec": {
      "display_name": "Python 3",
      "name": "python3"
    },
    "widgets": {
      "application/vnd.jupyter.widget-state+json": {
        "705e1731c3d24f87ad97d658962d971c": {
          "model_module": "@jupyter-widgets/controls",
          "model_name": "VBoxModel",
          "model_module_version": "1.5.0",
          "state": {
            "_dom_classes": [],
            "_model_module": "@jupyter-widgets/controls",
            "_model_module_version": "1.5.0",
            "_model_name": "VBoxModel",
            "_view_count": null,
            "_view_module": "@jupyter-widgets/controls",
            "_view_module_version": "1.5.0",
            "_view_name": "VBoxView",
            "box_style": "",
            "children": [
              "IPY_MODEL_b1ee3833289643a58838847908714f96",
              "IPY_MODEL_1930a86d8d39480db647108f0bd829d5",
              "IPY_MODEL_0ef43e49d24145f6b6234a4242d05bb3"
            ],
            "layout": "IPY_MODEL_741b9e16cdba4354901c19438a465b86"
          }
        },
        "b1ee3833289643a58838847908714f96": {
          "model_module": "@jupyter-widgets/controls",
          "model_name": "TextModel",
          "model_module_version": "1.5.0",
          "state": {
            "_dom_classes": [],
            "_model_module": "@jupyter-widgets/controls",
            "_model_module_version": "1.5.0",
            "_model_name": "TextModel",
            "_view_count": null,
            "_view_module": "@jupyter-widgets/controls",
            "_view_module_version": "1.5.0",
            "_view_name": "TextView",
            "continuous_update": true,
            "description": "Comando:",
            "description_tooltip": null,
            "disabled": false,
            "layout": "IPY_MODEL_a33955fe74b54e0ba08c9b8a63e99811",
            "placeholder": "Digite um comando: joke, search, time, exit...",
            "style": "IPY_MODEL_b429d923a5d541dc9470ce918581d73c",
            "value": ""
          }
        },
        "1930a86d8d39480db647108f0bd829d5": {
          "model_module": "@jupyter-widgets/controls",
          "model_name": "ButtonModel",
          "model_module_version": "1.5.0",
          "state": {
            "_dom_classes": [],
            "_model_module": "@jupyter-widgets/controls",
            "_model_module_version": "1.5.0",
            "_model_name": "ButtonModel",
            "_view_count": null,
            "_view_module": "@jupyter-widgets/controls",
            "_view_module_version": "1.5.0",
            "_view_name": "ButtonView",
            "button_style": "",
            "description": "Enviar",
            "disabled": false,
            "icon": "",
            "layout": "IPY_MODEL_65282ba7d31c4483b241210ea78d837a",
            "style": "IPY_MODEL_e6cb2dd0c77b4c25a7be6f9324420660",
            "tooltip": ""
          }
        },
        "0ef43e49d24145f6b6234a4242d05bb3": {
          "model_module": "@jupyter-widgets/output",
          "model_name": "OutputModel",
          "model_module_version": "1.0.0",
          "state": {
            "_dom_classes": [],
            "_model_module": "@jupyter-widgets/output",
            "_model_module_version": "1.0.0",
            "_model_name": "OutputModel",
            "_view_count": null,
            "_view_module": "@jupyter-widgets/output",
            "_view_module_version": "1.0.0",
            "_view_name": "OutputView",
            "layout": "IPY_MODEL_9c16aa030ce0435f856f1edd2224c56f",
            "msg_id": "",
            "outputs": [
              {
                "output_type": "stream",
                "name": "stdout",
                "text": [
                  "[COMANDO RECEBIDO] time\n",
                  "Hora atual: 19:54\n"
                ]
              },
              {
                "output_type": "display_data",
                "data": {
                  "text/plain": "<IPython.lib.display.Audio object>",
                  "text/html": "\n                <audio  controls=\"controls\" autoplay=\"autoplay\">\n                    <source src=\"data:audio/mpeg;base64,//OExAAAAAAAAAAAAAAAAAAAAAAAAAAAAAAAAAAAAAAAAAAAAAAAAAAAAAAAAAAAAAAAAAAAAAAAAAAAAAAAAAAAAAAAAAAAAAAAAAAAAAAAAAAAAAAAAAAAAAAAAAAAAAAAAAAAAAAAAAAAAAAAAAAAAAAAAAAAAAAAAAAAAAAAAAAAAAAAAAAAAAAAAAAAAAAAAAAAAAAAAAAAAAAAAAAAAAAAAAAAAAAAAAAAAAAAAAAAAAAAAAAAAAAAAAAA//OExAAmEYYUAUwwARLEMEwPiOrYJAkCOJYliWZma9+9Jm92169eQIECBAhGf//9ogmnd3d3cREREQQJkyd2TJkyZAgQIECBAgQJkyZMmTJkyYQQIECBBAADw8PDwwAAAAADw8+OGAAAAAAeHh4eGAAAACA8PDw8MAAAAAA8PDw8MAAAAAA8PDw9IAAAAAB4eHh4YAO////wM//Th5/4AAA7/8PD1Q5QTwSaCEpG4jll0qBX0MkndIcPWU51d4VX//OExBoufDo4AY9IAND5JsSpKaFc2yZvMJESJcrbKpVJ4rCk2CNSSKKbkDFKqMwVEw9v1qbo3ODaCNJMCxpM2ogJPkp74WxGFxXUx7KZsfZxBM56yF+Ud29uU1balbHbdBNaKU8VhaHZ3P3s5zyc9qv9xhLGMn6hUfO3K3KMUqTVPtIFTJq/6T+bu5n89+ZsKlDLyGR3wvptYfcpuYgVZ7aDGF5Kxgw2UacvqBz5XSwyvICKtv/AT9lrEjIfvtYb//OExBMs89aQAZhYAWAZFWPTPjyACCGqSATQTDEvNBvJJcDYEY60SEHZRpWCKPIBw7BrAXG8sNXDrP+mfHcWjnNRrpLaagi1bDRp8sKyaSz6JWXlrpi2ygcXl6Z/YxyRo9lFytW02t0fPs6/Zv+zqJpd7ou971EZb//vtjObq5exlZ5p+G29tXbFn+2v5/4Sm69l762b72UyKf7C1c4xzGw5WpVhPUpoOtLz72v2etfDLi+wsVgKNLIqRBQEZ9AA//OExBIsHAaQAduIAeThIGBwKhxNDJRY0gOHZ8wwWdSHsImXknLZDhagWhscLws4NMIsK1EBQHQE6GISYDIQy4ggQAkTEOQGw62Jok9xZCJmZxlyaNSkKEGiSSy8KSIKmyReLTrmpb6Cb3Jt1KMyHk+VDE3GXL6Rsiebp+gnPlkiaSZ4spoLQUfS///v/////tTY47G5xM1MrXbSX/+l7///+69JaR86kvN3dWMu7HiqAmPz5FkQSwQu0bH+Bjg1//OExBQsxA6EAN5O3bZAFQk7RJCCV8ItETDwVWjKmsCAWd1OqOCQ/buDRIBrT8SJXhrKjgdXANtIwGSRvJAc4trVpjbrWZXeQ2r0FC0YtU1+MyhwnVpuS6Ygbv/h+X81a/9TVrLL7OeGegJTQfKFhc6oLuedmGESB8aC5GQi6HINn//3+1jnqz//9WmnIw6hq1Y51N/zW3qk9v/p1o//StqMecNR0RBwkcPE10PWHsgMDNzxLU2A7HABHYz2aO21//OExBQrdBpsAN4O3U3YfYUw8wgdDDFEZMWAIddFktNQIZFxm+qTC5nGtQ1LmtNeVuasBUGsxxcmsj0XGa+oLH1iv6zmQ9uRrPvIlPSm9+OMzYgF3ZbWtfvLL//WX/ll3Xcfy/9ZZdxpRwmAMLxFB6JJEoNnmtOOU1DBsSjzm3////////U2cccOmsIwuGrHP1b//qaj////785/zVEUHJQuw8NiSikYdmQKEAEaYmp0C34aAtuYIaaucRB38fuB//OExBkjAtJAAVpoARIqXyGrqlwpu3I1XwRYvJqYuszGIxQkI/EJRdPJGyJitdLXU9SSzFCis1Pfr/1qoIU9VGtJJ20kHo69BHomtdbXX79/ZT1IL0WtZ9d0egp0E17KOJTUf0ZVfSvk/pt9vttrirFD+WQlKbfZ+zjjm8aX61wuK9SDEZQ1FmNap8LECuHbzlVR2S8aklloyNA9wMIBi11zAcCyGDwAMcEagZ8mC01BjN5Hk8SxJpgYIoA0cAcX//OExEA3DDpUAZigAAUTAWAKQZBVAvmVoopDhcBgK3LynardFB0lrFyEeZFs2PL06kPc4dYsm6a0kTcqGwYzIeHTizHu7LXbnS2k9kNBNIUobEuTibnWUi6r9f3+q6qk7Mm9kdWozNzpuXyICtCcMyWahTdbKdNkGW9BkNMwTQWZF9ZikcNi6WTMyPm6Jmek2OeRc2Ki0psaEuOocA5hNicyZI4oB65MGipInCw0K6ReflwQAAxwAWO4gFcSjlQu//OExBYtvBaMAcxoAT4utpx4GoQURiEAcJBEBBwCkC2hXj0ATQGCPUDoHQCbg5AvBLj3HweotzI0MSUuiim6cvppE0yUYIJoMzMfWmkkiktaa000akGdlpnd1qLpukX3OJqLiJONTMwJhqcLm7qU1O3sr////90NluggqndSaaClJ7JMqXEFHktaS0tJSN1a3Uu6TKpUKCkVnES08boJLPMmpFJFjBFR9Zq5uaxTuBk1LyDXH+E5cAUmj+VDhW8u//OExBIoE+KIAGPK3UkJlNGYY7CznUyOZuHWLsW8jidtkI70sT0HufhWoQtr7dCcUS6xXMV7hixiFPqXUkSBXObRL2h1kk2361mB86tqNut7qNsVw6gx4jMggAyMUSF4fYrIOYrNSlKPZvv+j7e1beVpjGiV1fOhGQ7KtDGVHcjWZbNZWVOiiKdHZkoY7OVjCRSx7phnCh2W5ncV/HT7siMhEEIkNkFl92HJTJFt8/lqXzvi3qq8ViaWFD3cJeDC//OExCQn6wqAAMPKuRHUaJiIAOEC+SINQYhlOanUT+G8clydKkhQouWSyukh2hRdMW4USMaqiEWqORg8LDQUeR6TCRzOURMxBouzoJOZHQVUjEYw5WGlFnvlahjI9P///9lazmmQqKjm2VysKiqEoO+im+hPm+/8v13+0zd1cFZom3xLvvJu+DKC1r0TcRQONBNj5iYzMAR+BoQKiZhgocPfhkUYSJsWcxr9ozfz1VEjlovkr9VgJBHjEZF/M0Uv//OExDcksaZ8AN5UlC/AhHUyUJe4vsFhQUWkGgvJ1zREuAkQuwFJCPZQiYsc845E2VtOa2v/X19lY0gJmA4cDyxE1ANhsOBoOX///1X6TryokBlxJRRwOpFTgLEtrxAHGO71FDgbB0oqeGFY1o6WAQZFiTAFGLStqWRhQtm1rWGPMOJuZK4GHA5hoxjw7YIzKqRuZjShukA8Mi8gcIGgDNuDeJgMrTAUvYaYYWABRbNS5okYVuQ2QQqxxft7Ht6N//OExFclmgqAAOaQmJ99tNR/1N///8T/8R/7/FRZJQLBgoHcWYWfL0ScYYMFB6iOWH5bhlz////01rvJkCRZ/5tTkDHuIIB8eBwhZVWh/t63CTA0A51VDi9ebBp9mQwUgsEBz+MdtyARgjUyBILMVX+l0oR/AXB9m0qTilAGLHFbHEXCRiG8H+C4Qy4QyQIFC2byyXuy/EjjFjX5CiZkf0c7Rn7ZrZ/+3z///////t6czE0gZIGEkkGxGCZMwgBC//OExHMiYgaIAN6MmI8YPIJluDbv///+W//9RRoshAabeLmlq4Z2KeHE+jNJwmNlKy+sNPupQYqcHUh6Ycomos7KqBl3QVBu9N01V7AKUNasNcIVgeROZJQEAzBFztJzXhXQf2TuIKiDEBQdXY20OkuZYRGZv8/eONm3z//92P5//+OsP/sf5f6oKTGMBgFAofKwkLDQ4Jji0CIYBw4OKIlMcn////////96WVDP9/f/rv5iGEGFVpJt0aW7Yy3c//OExJwl456EAN6KvY+tgwP2BzwwxIN3nfmBGBmVPpp4HEI4+8tioqAGLqRMKWa2E1K2sAUVL8RqRwc6Kthg5IabADyTed9vZxnpghKZcBmWhLU6mpZVdJv5XlzfP1M5f//q1K73///ux////zXP//12vb1QeCEXEOPDYbGk7ISNGpQhdR0RS4PG/f///////65lKO1fvTb1t5h3vPImmWaVJL/0qsJBhnUm2QBXUDOwQAiJUPZ13hBBmTYUJlC+//OExLcnC66AAN7O3GK1qQKgiZhI7GFuapxEdeOirzsp3MjiAHBmPulDd6KuiSgh8knnMzVJKaUlEgYI+8ojFJGKFDB1Od/91H85////a9+rj9+ODAOEMfQagVNb3G3zhoA1TJ5g+gr/p////////v9FRFfU51PqyqlDkmR05TVMMYkaUJFCI4ygY5CR70TmvWH6lrM4eoqFwi2oPdm4CqrJ7PLL5WADByTB9zLYo9ctdeqF5x5B59T9SC0v0/mr//OExM0n46KAAN6OvN7esIg4iYanr+ePFlmGCALDhEVikL9FwDCCRLMgVqMVQp8/D9BTjDFhfVbyVnGdil32xWKyJDruPvUO8B3nCvV68wGCgWerAz0rnXvDv/XGNU1/GvilId7QtuJ/////227104ufETQXIA6dA5lP9KxnHrqo21DQPWmUY0nHnE5b2FRV1FlmGlJn40gCRGlsRecGHCUp1sIHXbnxAuYDAYFne5SiHHYgaNX7NSVSCA2vLAuS//OExOAn4gKEANZemMvVTQliIZKNTXOMQA/jpt0TGWN2V5yiJtdf12ZbYo5BD0Av7Qu3TO4CAF0IAXEhKKQpQuheMSERjAVhYBuC+FkhcwuQqpOecWKGEhIpcuVcmJikfkhZL///////////sf1ZzK9HnNPtJSeXAt1QbdR6dLhV2iqCFxvoyMGAwErc/yxzPwKCAmjEKg4wOBTL7bL4GAgOs1O5F9eJsUobqnGcjiLcIkUul6+V6u1ElSMpVua8//OExPMtU4KEAN5UvO1eysW/iMVkj6OMX9ZYX+SuWixGDJXTuDDLzPE1l4o27sv3O2qsplMp5nYs3cqR4Wmu8BMHQWQKoXo9ESRDZYqkgtDEWR6Ko+chY44megtjwhClGRwrPFYubkTlDTb///////sra+v2TW07Oej3OMfZlOOU1nchJVi/t9T7Ua5RqJtkYiYChiaM5GeeGoYjCGGAkYCAqYYiaZKpGPV6QgurlUYNAIEheapXmxDqR0UhyRw///OExPAu835sAObUvAqvFK6T4GDotDWdSWQFW7lnPwA7USjNzKdhqXX6uV+WzLkvbQSWY/8bl/lneWNBlDLsu7MwuihoOsdZDa1GKUhqKyOrjhNREgmFOzDdU7Nv//////t+jmnZGchRdioUR20e8s5Svu2rkFWKrFGcdd6G/lgbEwlpiQyAACBMweC4wOcc7+r08KeEx8GAwnAQwNBkzcNE0IQcyUEwSDcFAiwJEIMBcdCHwk1FH5DcpX9Ya7zf//OExOcqw5JcAO7KvCdTI3dqwd8qzmLWW4dgWdyryvla5z6WzX7TzzYZRIo7jWzvY2Wcgkw4PGQeApVVDKVGOIOHA6AQIJnVGlPViO6jpZkGXSokpjozNf2X6er7az5yMy7+1jMqCt6B4olH9rgTIhkaB3FgqCgrDVa3b5kokX7mY5Z4UnzMswYACQA6RCPZxEhWDBJ4Igg0IY1MJO1lLtdks6vVfTt1XkhuB5ZYuAnhWQyQZF6BawxKT49San0q//OExO8s8vpIAO5KuCYmRFD5eWEuyoblB5LQTTx57Ia80ckd7MDi0Qq1nFMuNqLe53tbG10RVMdvimsYyLibru3be77+mftmK3R3E8TPDK7fs9lU1diAZmHiF424t6//pfEwU5upX/W/d6PUYAPTbzj5aTj+W8XGQZ1wW7s8cUwhcCMtYnQ8wXAQLfycBwVzoaydxKsjVCwV3m3lDEKSbtw+sW2pRGWWNPZpR0+ovfqNaybGptO4TjMwoOWT9TCk//OExO4p6rJAAVpYAb2bdrkFw81aWOrDkUvXo1qx85T26dmZlWyduNKxeQkC2siYn7btFJ63+f/T5ctx53/mKhbRiFOt6cae48BIrhbQ1VPqMVL2FJzC7bt559p33UoZJGS3j5KUDx2cRB51gC55HIg6PcBQh7pZgTPTs6L1Y58p9W8LHyufh+ntz9IIRqjlqqIDHSKPJ8Aa7K2HJ1GIhaxNBCelyvVyS9oOU4KY4IUi+hLEYVcPIHpQmmsXJZhh//OExPlQNDp8AZjAAGMOdz/crty+n7P4b1h7/tQvOGsO8zyNfg9/HAQUYAxCkjTXlzwwxZdkHMHSLZE3FkTGH2l1OqgpU8T6NVpBCJHlLtYObQaRwQyU3X98EBkq+L3YafB5g6m5t6/z2sz37pBOL1TMaRZtfyhX3Nj9qGX3E5YBUgHQJMRuaUIf3Xz++pklW00kkKsknEQaE7OpRY8ktyNK4SpKmVc6sxSSlULoPcss1UrjLIzaxKUmvsYwlFWD//OExGsnc76kAchIAVUosyfS2RQxxZZFKLsulUOO+br6xXJyRWzkfvjVs/Waqr8o1uTzrWDQUT6cFIPuDHHblQddlbP5edsy8gaPNrJd2ttR6uKpxZHT1ww8gdspSD8rzI5ptQtyveSVWnK2YOO9kxGjXjxYvkvJHiSvVTAiqp6yvjRpYyB81SjVVlpSMa8HiMC7cMmscMEsCpQqDWBFizg7qxzVEFD7KcZerDGafVa3Zta06VeeIYpaafmq4X9V//OExIAnAzKUAEvQvISypWLspV5Q4uGxLZG1nasFYqtzHtK2gEAyaZaz3FPRPlQeFugp2aGBzHjfqOS85DlMYtgCISUcgIyXUyBwMJf3qwmzoLYrC8QHNYJ+UyfXZ7lAzWgYh47L48bcZgw0lfXh3To5kAWxwSRNLKpHz2OJTWGX5RQhjXJ0opYHyXBrIA4bh1EjXIEJpYjIhQGgEPaRtRVO2HaJKSSXAMFRVQwwoRC79ln/rRMKeG3BUhMVKpjG//OExJclCfqIAMPMmBkVBDAqYiVoi57WDOwgmZFNnApB0cWa3V/jRJN+l0nhUrTvPltHiCRJhJAIk0gkLYCIgvypUHBwKjy2zdc3ahud1MUEtzuWK28e3pMI1AuWJ2Vj0XdBA7CScWWKZnTW6pBr9GzS/SulcD6qYygFK5pEflJeZqUAsyKXVTN3O0GC4fCBFDJ7/7dtq01Of64YZf//XWyJLg8ioPmiULGvNQLJoZhBUcIXiwi9asZj6aCh2lEQ//OExLUmcg6EAN5SmMNhmODCAz5lRkGQacOGsDExhU5wbJkm5siIAFmjfnBJGoSgpCYpMcJwYJIZsUOhjBDg4SqZzljsHo5TBrzxie3SRuZobYjRIcodhSCLbDT1sxNASo/eo1Yo0GOwjZYQX1cWvKiHxWjbfCc92Hz3VLXKdVStquTiSBZ5xj/////01a0ReIRCZuhIqWHmgAWeIgGbTSM6TDYQ5r74GQuGaTrWW2FwIPLpoJFihI3Ek0oxCSDS//OExM4myhKEAN6SmOafCCASILAWgnPCqtU1MuzOeTBSGHYHGQbtSJ24fZKtIYAYdGy8SBsDZ4vmRJWtqHolihtSsPD5KzolmBkcOu3PzswM2V9iVr6Q51uzql11il0KJ9qDnioOresPAyVkigUAn////////9TOzCjAjw7wPRwgcwA4OWRR4Sg0AmJ9ZcBjZ0SqBhneidCRCBGgJwQTYhYKNOtjdS4eH0njMCMysOQ7tiFiA184DhJLwyMrNoFA//OExOUm+b6EAN6YlDMzEASVkTcXGlkgKwibfxPQmDZFO1lNIdmIwEnLC9PxOvIjeutsl0hBe6RbEljsKQuU6mUbjI1ubgrn51tadcEIlZZFY29hU8fTfuE12jMEeDvE8XF9WpnG6QINI882Lx54kIRlhqH/1Nnv//tR9VVPuAgDqtMVu3LQWfgkB2/AIeiIpbEx8w+3MvDqfwLHDLUsuGAgG2DwiPAScZ4jHlriAAe8wEBn3XIcc8jU81AcR2Bj//OExPwv2ip8AN7emDBY6TNIaFpT5iFCZ8cumAgYQA0XFcBLQIK6NOouDjOFUonG1u27tWxBTi0uMEM6mrT2prQ9PTkH0t23Zu7ygXPd6LVrEYr0koldBLs898+vds2KSqG1h0LJCwMBEkGB5UMFTH8uFrK/rZ/5kLuuGQcDgfIHGBFTlyryKsbEQFVgasIffgKpQccK2MnMEgQhHWZFxocEiJ5XdNkUiQjT6gb9PCLQSVPB4KzQErTQqWqX0fh3//OExO8tmcZ8AN6wlLMGDpwv9bMBcSRbrGQi8iJibSlU3UlD4rygand9S6xjLm15SRB1akmwZrVgJniQUulj+T/lA5Bg0BwUro7KElEw+JCxEYyGIq3FTkXdHReq6CJUEBz7v///VP////rRlkIiustkPRTqdVodyoczZEFUMmiPLX3YnUMKoJ+j5rxHlZNoWISkDofgcqcl3zEpoHqsqPpFTzxL5DNHydBMcLIskkTKAUbOYwYtXWUNLelUfZAv//OExOsrO56EAN5Kveh6A0O7so+swBCBQk+0NIc4q+t55YVqqyi9ZqvvOTVMwV+HjpxI6muRyetdCUWHMIdKyDIoPxMsEuLqI5g3VfvtYbrmHXiV+3tBGXnjjmPpL+Ov////////+r5rgbNZSkMX7pdW18jva+DqgmkRsVaDKTJ7/c4oUVzSFMhfQk1UcSXBtCDiVlgBIz5TwBEDvtwMYJ4EcpN4FWSm0oVSACZu6KBG/SOIoFT9PtqjkU8uT0ga//OExPEtO3KAANZQvIptAguRchccGAhLNiqYP9fmWuKZY1GyIt2sJp+b1PZaFTO2ltHGlQ40Zs8fljpWsozO25mxUqTMMz1PjI7tzGkB+wqAOLmmJ/9n2Wee6LJN82drrm////+1F182iuymodSqo+y//0dbLSXLXr2/9Wmo5rSJIDuB1UbUxhwETDGIzEgEy9oMD0zUQwKDeWnMhD5NKgjMnApUkMgkoGxNvREDqEafLSkqi0UKoXVjcsh4RgUu//OExO8szBJ4AN4O3c44kGvyIF1iLacTkhQYDSrDDgUKDs2MaOmgXjdmSvzPvwnFNxJb8q1MK1wfi6LBYxD1l9otvG9ll2ta3zWVNH3Zn83FcWz8aFFPZd0Xr68oNBQabVfOjBaD2T///////cz2L/v3356//NWZ/9P/RO72MZWQMupRcYAQwLC8yeys1RCswIBpBGadsMYyBQYPBMpmZ+ruPCxfLzmIoOKcq9BgGgI8GGw9xLCnzaJLZ2ZZFKpG//OExO4sHDJkAO4E3dwMVVQPy2QyGi8sgwiXCM2EcnrrI1YePEnI02GVsGSgG0xFbRZmba2g4Ndtadize7lrW/x/HvL2OPO08qi0Nah67br41O25ipXkpb2IanONcUlKgmERJ9tf//R//r+77iJDO3/2a7IvZ1VXUzc51bf/1muujNjBJYC1TnQNMEwGM9DeNnwQMQg8MQggMoI3MbxrMJgTMbxpMnkuMIAfMMQhMCQXMIgEBAALsIAcDjgY6nOm//OExPAtvApUAO4K3TqQciMqbssgmjU1jEw3An07qlc+RkXYygvIrUoA6iHjTVB32Ug/FDTMvl7/kgksHNvpORKA3fVenBAFd/mWXYbls/nrDWd3v54a/cE5V77pXuy6c2oIzOYZZv6TkEEUIzKuzJcKysOGRyPX////v//Y1jOye39jKzk7l62Yqs//XbnFhBleR0ILkZWgbqTqixKAYFD4wsvIyFGgSCswnGY0mSAyNE4w+Ikx6Vk87tkMVADA//OExOwx3CJYAO4E3TJtmGIQoJkNxwcig1AEArBSUwlxNOSAmicrAdizqXw0vNpTkx1xEIkHmPOyBhTF0bQCCNAZFCxhxYWgALwxNK0iTxJepYCO5MMRUMhqDMG3gSsraX2S9TgdEKBTHgWNITE1FSPa3Cq8cXg+9L8Yly/fbDEbMQj9Ip30TK7J2c6jY3KJhgiPJoEOjAhS7hzp5U3rv/crezMjXJdzXCGKhgaJ9X3773///////feb3z6eBqHP//OExNdJRDpYAO6e3BL3P8450MZVXs0Itc7zP77xj61efFNU9NU+KU18v63v8/2iYrZknwp4UXB1xHapJpOmh9CknUQwlw8FaQ8XUsauIWPcecEvB+KyJ5pLwH8csGAMYupUZfAoGAWUBKZNmcYnAcAQQMJgROPlWMBgJLcFUAwEGT9P0IwiMAAB5SsiW7nEBG5tq71llZX2yrmrlXebVPXYtWl0bUJhyMkOSZrtvyrCyWzGl/QLZjzZ8OSlve3q//OExGU/vCJoAO4Y3ReyZlqylOZ2mHVNVv1Hmi1qllvMtztfuU/zVyftr6SFahl7ERfMLtFuK2xwWJJIL7Ry5X12zWzqc9XcLkEUnReIh3czvkG2+ZmZmZmZmZp29l5+cgvEhGB3EYkeBDLjdsbzcrzcCuWnYFC6La1fcO1r9K3/NtMzkwRXg5xlW42kqcd7J4hIfJ0zKZ5pocXyqoIqskG6HYqwdgfHJbJnXoaBacVQBvlocolRhVhonbTLzEab//OExBkuJBqEANLS3QtwVLr+N1aCadKEq+HcNpssXrKSZAfQ1JppcMmmz/9fbat6V5UoTj7Wz3wyI+2cb/0DGTmnqWx7fr+fqoQYuew2mLnOovScutkKOMavSN+wuaDFEF7sMnPZZsECBtJBFuhQSTJMosK5ObQE+qKMLzUMEDCVQQEAoLhgkmsw+RJBTPVo5IIQ+wuoyyvja2Xru21F8UazFQjqCMproQ4DePWmkyAal5mXC0+OVZNJ/Nb/1+v8//OExBMrHDqYAHhY3Bj1P/4DBnf//8xDL7Qpcopq27tZnrbPb+T8/2TW21npnL1/pbnG6tdry77QbG58OdlIIXbsNq0MzXUnP9YvP1eyXD1cRAaiEcicIojJx4WjxATDseB1Ec+MTAiL2DYdFgXncbrKYq0OiYe8/lyvljoRFSiBi6gzDhYbrBzeXq0S4cx5eK96GCkfz9YsJhg4h2o4Q37vokbp20oEZDWDCjJeT3dm6KRif5/noV0VdGdP//iD//OExBkr5DqcABCe3DdNPSb2+8Y3/r4iR8/efi+6fH3rGsbxT/f99x4moMXPi1gb3u2bafu54uWWI55gol7X3lVkLCpZtqt530MnxuH6Z5+MDPHZU66VRyq4uLm2KtudmijUvKV6fLEysEE5GJDWVaWlC/dPOzq51H6Mg2hPHFxXa7dTNTFZuZzIiOGWpXtkNkWj1WUxMzqolOoZhJaE7ixdT6oikubCirosrO1dv/fIytc5ZV/VP+sEqOztqq+i//OExBwnzDKcAAiY3FqH2bZ8zbJtl/npns7J6Obsb2PVWfR13nmrNzBHaFZkNsexKn/Vy6NC9cVS61zdalodB8KBDEYOURwDQbDcfBQN4h9D4+JLx0T0M9H5mTmqY6Qn3k8JVPrGVTl1Zeq/WbdVcTrZeDbHSaNg5PYF3wf5xFj7q3bQw39bJymMmVle2CWbVcbUgEJzm9NeA2xLMUwlNqVxvvMqn83/0NNbX+yV5WVjdHM//qFZLf9DGzP2/mpW//OExC8l9DKIAMCQ3BuNa/9YZmbrZpXla9aaVGHKNFayQ9DkFILRY6YaVFQUguPoOhZrQAYFohCcFICoAoLRwPAKh6LOYDYsPVKFpFckPV4vZpyRVpFVUVqRW4bYWumqVyRVRU1rqGKO4ppVVVRU79Vr4byjrYDLWNaMPHBMvHeMZQ2BANmDQEG7timiQBEgPgQAjDctRI/kVmGq3mFoXyyD4yaYsXnZuLxGPtqXjiduvRP3cr52893FptPpqZ63//OExEonw15UAO4EvH62Ey6+8bMP08Oy6rfz3H4vnnUx7Zn2H2oYsrwWpYpLrJZKmnRKVrLk0wM72/d59r6FedjgZ/lQ1Ht9m/20N1KgqZnQpwT3SrX/5mSe5RmsIX+r+iuuLAgAQFMPhKPXhJMYgGBwJmBoGG7FyGSpPmCoNF2RIHDKME1pSEgPOFBBJArKzEySQktt0YHxqjgoQRJq2Sm05zGa12o+K/5PXbGqpSY0rYpBZxcGLk+RQXwWzImY//OExF4oeipcAO5gmCI/GiKRDiYPF06GryJqJ8LtIuksxVQdVl3dnW2g3WmouGqlt1f6TfrWk50qg2O3f//kxG5Ln/Y4MoYkzYv/9a1G0EcgqxqBRkaHAV2YtAYBBJgcMmu2EdPR5l0YmGwCYCExh8CGAwak2n+CHkyEe1AwcNoscmYMbRYRxHYc2Ku/feOG6t+ZcuAlSQIigvNCiO1mwqbxfKjjF/GGSIMQVJvCp5ObSZQnKmQkAgoOEbyfYr75//OExG8mqd54AOYSmM5wh/53OS+qMYoQEloGLnOoF2gTeC4QUEW8ld///+7l9v1n//ony6z7AtDFlMLiCZ513QzBqI6RmfSh+r0ZeQGirhpqMZ39mChhELL9CAk64eBRYw1soEdGBEsIdYLhTryzWkU6pcVG5qxqI7cVjmwNGSDJ4ykK1DiLBoYimZYaa4SCibSl0ggABhatcEbT6U0pJ5ZMANpKbMRcOH7ksfd/56JOE4j8RBd5fBjjUXaZRMv///OExIc+5Ap4AN6a3e8UVhuN4w/BEswicokA4BwDgMhxjDkqOMY45R6lMsNThkVFYyQrAuALNzEvlEvm7Gbqab0Kmbf1f7oJs/////Uya0E6bmaTrMjqC2dBFBbruikpFjZF0UGTTdV+qzrRSOpGZsYmB9ZoXi6YGhaYnD6wonSbpZuXv+7BReFpEDu6BTx+AzcKKBgofM4YXqwdd5iUQtAfSII3GfgGsKEQVvBERCjoBLGCLzMAPMiCMYAhkLig//OExD4p4gaQANaYmOhm2XGgHAYILCwUlBQtNdgCgTZ2WRiBmdPG/b8S1wScWDEcVqvHDpGYHi1MT1BxRK+cF4aSYVC4mLyc+YOFTyhyqmGlmY2NTI8jzJnsrT5+NbTGo4r2raFAJANbP///+iMAyxUMB5HsUbWZmKaVhRyCuk25arzI4iYonw7rgiIycSCgj/QAYrSlMucllACbP5YHKOGxgywCiF77CcoERM4RIscBUoLRncCW7ZOuVEQWpMlE//OExEknyg6UANZemMscvmjqmg2kQhLnscZWStvOFIRIkdVJU/0POtEnYZCPQomakWV23sr5Tzvm+1ZW91NDtjPpne9X3651//8W/1jH1i+6/e6eACYeFH/////UWgRtnV/1KtUWptrpzh77VmdCMIa/AcQU12RNZh0nZSTcNBUQm9ekrXa0QVSEXZvxVYAiSHqQzEFMVKE66dgTLlblT9WGaEpiIaCE6Sa6mZM3TjL2Iqcbw3yUE4XCpPg50Lfv//OExFwmif6YANYemJDipP4u7ayFyQJLzjV13JUOER4+ZGN3B05vFQ4QH6sfsbHGiv7738Zv/qHfVPj5iZiRgZCoFce/////7f/0Va1WtHUdjS/DWAoXLXBJTBjvI0+bNL4AAPgaVmsap0bQcV7867szaj16xhQuTGOZzUPRqX55ULDZFLKsGMSn4aisy+s63MOqDjs7f+ZZbFYvPwS/scjd12YadJ22uRq3KG5NFay475yKIxzCejT+yqS2qm4Z//OExHQomfqUANYwmJiSyGGZQ/1meor2FWtY7lnvKzrXMvtU2d4JnYnl4///0fhAc7//+e9Y9q+wIXVK1l+EFgg+EziRWZkRgRjdgdGfoR26VfQFcOgaWb12lnJ/e6BrTl3MOapqDn/uzc3/6rdw/k1GpbRyxPHuClG4EjWlvaGzPmTb1SqpWv4CuL8ly8mWxKpTIVBYITM+e4vmLBewH+GZXRnrZFdu2K9J95xuBErKAmncOFTAun//fuO20NbR//OExIQk+eKQAN5emKf/6WhJ3U9cBItLsaoYIiePz2bAFAzD26NqIUweIi+a1gIDjM4qOlrIFIJlDN2cAIJmHxaqChnLwGJXW+pwxw5XH52ko1vnNmaNr7iLX9dcelU4fYJ8owTJ9oTCj1pa8HS3d7jciHMbNG9a0fRva13sX1nj4mnHCsAGAaFpjjjTdCJB8d2R/ztH/////q3Xqq2Wl2bU3////s2pxz+cd///qb85TTTeQk3WnCoEgYQwsM5p//OExKMl/DpwAOPU3I60b5hIY3gAVADMCwNAoEmNhTmNgRGDwNkQNMcY8YDBeYdhIn2gEQ7ttlSbqEwfxzBMkFHWH41NKSBgarMjY8aD2KRRNDhxEyLxUmTVSkndZqcc1TMh7GzvWki66TpLRZaBgabV11J6SqDf9fXoN/////r+rrotRZmSLwdLAwx/8myKQm5gTGGv4hoy0OTLRpMMh0EJsWBxg40nBROZzQhvkqmAAeavExl1zmrSGBBWZLQx//OExL4lYtpYAV1oAIhJIKNoIEx0rEwSgwPUMoBG8rrNwESDQkKeTGYgFTjIVdJ8So+Z4AQAqFwIEYWsM0JkzsqXPk0JIAtxSq8IioyOBKDuZMU4KRWixhubiNWUZLnqLT8vpX+iE/NYwC+0MUkbs5SmW0E1IpfXppQy6pE6edzyp+Q5nfwpr9JylpJ2lp8ItanKSVP9DlFu/fyzu4U03lN65cqa5U5Uvcl1BYv41OauYc3jFLOGqfdmh13XL+E7//OExNtH5Co8AZzIAd3rdLyrV5jzWWX1uU9+5jhjUr4cys6iVWzWq73hv8q1Nhvve9yyz1f/6+NTn41MN83jfwqc3938e/W/H+1blT86tjysOpZej7C5CpNg7qv+3J/DYBcFppTsK3QDGIpOS+xfl0analaxXl7yS2WQ1PRmzbv2bvatmaiGEzH7kvksssYZ4crU0QmJZely70b0iIOpf5h3WFu3dnoxuQSh4H8ZO70F09TPuOedjn2JZVsSy67j//OExG5CpDqEAZjIAEicd+N28qzMy6gVDf5f2GGsMJfn/M88HYwlTyT6xJbDb8bpnILloVvcZcK60PDaIV6kgEHoZpIc/8MP/Pn/h/4cgt55Q7kN/LIpYz5nb7LK92jbooq9VuNKnXY3kFPmwyccd+fw/n/+ff///ff/8OfL9yjkss9/8LkovZ1+1KmF67fXXCXocmMOC7kmgqkeKldlx6SbdSddxp684Cph8zMzOTN1MY+evnbO0/Pz99nrTuTM//OExBYs3AKkAcZgAezl+yegnJavyGlUqrntOy0+1y6E/GAzJIuOB4YOW82lu2k7Wnx3MhxOuaLkLVKtQklQTs+qJccEEAUmPtII9EsmloUjErAeeSFMsqVURWVMEk9vlTp634ugVM73/Zc09tdbQlkaUxZlxm/fFW1Mee3t6Utdi7p2tftfK1Wy9LMX7N3dt1qf3W+tLMPW2tr/E7bdpD26tWraHGxndIVVUE2xj+XGZQw3WVri64eY9ZT9qmL5//OExBUmCzKQAFoWvVv25+ruLWDhpDjeAHOHYqWVLZKqDaQuHABTiDBUtSXXPnX2y3aT3PsqTNoMySO0mq9uaqsm1I+UAnJkpw8DUkTkzpqaD06yU9A8idprUjaWHnXw1rr0a9rf6jZVN5qHObMP5b/CV8y1nfoneHcGxRTpesDFvxhQv4loG3k2FfCfrye9KnglTiKHiQI3mY8TRIF2lBjDKjhPgFIhFJfcB7KmdrWw7+P0m1rW/+/e6ZtM2np2//OExC8oJAJ8ANMQ3LP/L1qO7zHPENXSMPDzrHBDHEcVJi2aHJJJt/fYVfq3nIF1pmBY48WCwnc0e5Ts5qq44oOjhqCyxUkqONPItKlO4bnb9fj+VX/Xn62nqYaP2b4qJzkSJqP/n/////+J+ISLtprj+ZviJieL7GIhYwB5imySndIMCUznLTLgrVuegvqDQwZRPoOHr81iUAowFxOHnNDXRYuDllp2My+lpmaVtm9e1A9GztiioWqo74ggOECe//OExEElQhKAAOSemF9Il7JQVrM5k/aSVlylfwIqvibxiJCzikSsKLKyRGNkbz/clG8mf3ljVxj3pnWJNbrH809I4mNmUD/+oCg8Fzuv9ofDJJ3/+t/wAUZSshFzdKwuAYIppS7ScB3lgqiFQFMYwEGN+yDpxZ25jEpAL8VRQLxTD4zbpjNFZccgUQraZN+Zm3Ug+paK0Jm4yC5KK47A0C9HUopk8NUXJWvYQ3x8CxKI0B6FIqrv1e+gvaxIkbOJ//OExF8j6f6EANxemB43za7Ghaan24TRcWvfG/n5xvGZtzUAwV//yYwr/6jSWN//yydupRLO4ZNKGDQbF0VsDvuQgHMSPo40nRoOmEQoAAAYAFJ9NBGWQlE32oWfo5TcraWhxDvT//2K9+vE0Y5Zam5W0CXf9SP5au4Qx3bNExXPOGQwEEwXFcuCSkLV144iLxPNCUBJ81KS89OnfdzXerlc+31y2OplV44HrLgTO/ABkKf/+C3/sNJ/rd/nuRJU//OExIIjQbJ4AOYYlP3IIoBJ4HBYcDQdYU0N4EEZhlVAOl4HCUDglBxOGNcMmKAyAQB20esRgGWid6EuCMqTomkarOrMR13aDZeZoUZxWDTsh3KrNuU/XcoDgGW67XadWv+9DPWIyG06Cdrq1cM4xFraBID6ajuG8HWDMJigYmaSk2W7VOt99amTZFFk0Krf9loskbLRpsv/////WvrTR1IWY4mEAdd/6g5e1Rsh/VQqbOalhkaBdaYWDIxeyYyJ//OExKgm4tZoAO6auAwCALAIJmIgaGNuDmBodiwKLX2SAnDr8w6MBCZA1fN27sepuVFyBBMd3k+iAF+cr2d+33duE1M68Bxq/jm+/bmoAYIkU61nCNxm9l1M1NEySCcjiL5iyKk1WfrdG6msup9J6P/X/0a0akmWpaC////2Wy1OjWyzYvnEWJIwQA4sY/kGTXUe/64sfCA1JQaIggCQcBhCeHuBiwEtxMAisyEUjVRcCIGBAAnSwIslFY0muYBA//OExL8l8tpoAO5auEX+V86zApIjRgHjY8NIjRoiSmr5QXVIcqtUVUje69RpEfRzPSj1dhmLRal91fdyc/72mJt/M/YlbqRp53pfUhCX2meDZbUf///++/tUGpWVmMetbnu+hKXz0uZCatI1z2Ru3b0TO61A3JiBP8EJ8F2nE2VBigYwGUTDJAUtAJQqoXnByJe5u8sh6bXbNwzLZDKRMmzVKqpVLZ2fS80yPNIDC6JdEiKtIx5lGViXZbZs2uaM//OExNolg+JoAOJE3ahbLck5AI5kAYPsnimRXTjpohg2kivllD06xQxhDECB5MizHOUW4mNeXcR2IJu32mrpqR/8YnuKDt5viZSTNImdxc0qV7NIphprRBguHbQkKUfkO9uMQvjzFeC8YroWfa2JJuLDxRrIIdnmVfQlMFnsEw9CE9z1GSIgcGCyycrGTxWx7u4MGR9EpG3G3/q9/T+y3htf/blk+dtQerYJFODwQcsjcqYondV2LeDqKKIpBwcm//OExPcxBCpkAMpQ3ZyYjMbpZZTmhWa1zmSRFZt90Yi9yOEtVXy06d6z7N23VXfYxvLtKc6yW5ka6UZ9fwn59JOXvwd5pbTNqSxTLYprt1CKVb7Y85ylcMhOUZrqRhKMo6lRIv6dFRKnb2FGyXCNS0C/ksqTka9lwq9Zpt8WJmSGaXUq1SdEUCYKC0Rw4EoPATKRqf+3a+XleUZ0oyjUT/qGT2E0CamCh5wAgoDC7QPgYdNht1wpy8EDAoY8BXIl//OExOYqTDJwAHmS3Jo6KIHTWtqKNZRbadD2mL0MACCJARmFjxjSNOEXEotQ5SoGlnltjyqc8tLdxhiQ/yyJ1xy/+wxOEHDLgVeFhkY5KaKlGgl4HH1uTLpNkc801djop1xekeaW6tpKpyH1olLInFY4NsYadjCYDmsk4fKaKlric8qRWARhM0gkxUFTBYyERbOHSA0kIzCYiMCAUQgAwUAJblOlnEKKOdfaTSukjbZF0XZVd5L/3g1ilyxvuXGq//OExO8rpBqAAGJQ3ZxsDev1KHHWDAp1HnzcRLxRh5qiaCPkrobjsLCRVx24KAL0kj8R9369LZqSzKxvPW9YUncNfrDrAMBeIgeEgTEiY6R7q4/mCS3LEIRzoWjVoOw/rHDKEOXk01b9r9Zb//ZVX/j+EgZSz3ZBI8QCBTh2a2vi54//v+P6WPq0u6nj/4/4Rxg5b8eMoAR2xwEVsqXNzHAIOvYEAZmJKCDHKVN+yEtYXtWgLCIoWEOzVOYTCKav//OExPMzm/Z8AOYQ3XvlC0KwvqzLg1axUarSvskWv3nxlf1BSRFANuJ0RKucIw0GsWOmaGGYxWFNJEn39tSxWQWRZa+7ikqRvFo4xOAk8a12u+D82KlZu89hhYd/e/moRLebFRMWOCIA7D6IFEdwWuFA/m68IEVQoKwR2LwgGZCNceLCQH4d4O3k1E+aXbTe5+v//////+eTZrVU0GUioVkCYjaVFzG746v//6/q6+qvOupzFt63cxE/ect5mmuT//OExNc5HCJ4AOZW3R1GjmrviUKpSTp3NXVKqdh9N81lxCKiGAqDhhqfX3BcHniEHMNOQhtmK9gwYBcac7AcMSexTP0y2/lSQXId08yua3umch1qeHOl/Wmw0uQqXD0u86LWREkFZrVYPLSwxI59jCn3BkjNRE0ajIpVGmdX+dpIex3W7r+dpctZ4Xb2V1IfTBi0FEHGShSNSReZOZOyRgSqSI7RMTSYJEqeMzUul0wNjZakjFqdnX////3pOcPo//OExKU0PCZ8AN4a3a2RYvOZmBSMEV9TIf//66lUKSUwdSWvooqUtzZZdSmJipJJJNnSWxkfMjYlehQB2n3AgwFWGkbQtI/fEmGcSAIYCGBfa3da1I6KNTzZUyifa2/VbQ5bKz8WjI6GRETniJ/KsE03InsoUmjol5CZSylVvFK4xd6qMLhOHrOjiw4OKY5TJR42Xiz+HNmswZDDB6lRGsDIHnPOlPcXDU120I/TUOe+EdepxsQOogOekloQbMjN//OExIcsvBpwAMJQ3KMg725QmpXmr+zNq3EAaKQMHCPetu8CmIAoLgog5OjhpQqIo1rDwtj2F3xKDAMCgspmSBoPY1dFFL6/M7f/P+/8fWu27PvKQBn9ovqziCGa7EIg9OIMYyOYQlVHshhZP9wdNMwyYMd3QcCNctj6khpOp+MQ8/0yFNMnbzKuvlvLN+9fO2s/32ZjXFsadzyZV8m2GaUfKV3/8Vr22zntR+JdF2ZOT2iKhPMIujbNM1FlZZsk//OExIcnPDpwAGmM3K5BzdQLpEgYApSKJj+CT5KWg0DtNZcKIYdjomJEJcokkUUkVP/SuP3/1vvMlecia2tjK6lsQWArVus+4rEyZEKjYARLFlbZVuIhE+LhSouzcbxtVDCSyJqQVItEiAUQVVSSJLzTSKJqMih0s1G5rbM5X30SJJeszzPrvW+f/n8yyWs87MsSJJU7VT+cqu8vPmf/2ry1d5mfLeW8/1VfttEiVVja+NVU2myxxKjSQVZGCWzL//OExJ0oNCJgAGpM3aPG5FVW86R2HszDFlMGxRyU3qOzVqW6uVfLet9xw/E6W+bAp+iWLYyUod8Ou4OaGPOOyUpRl8VgMdztijWlGyhUfSjjj3Rl7k1yU7W77pDOY+7HSjZxkr+pPBmwz05btOml7JbHPuNumvuP670vPcbua+IW55T00PnZG3rHNRe3dJf8ydy5zcs+Pj72rb0tsv1T5cZTbijqfuupPmGi4hFHSvCkyQFWQNOgcV2Zwecxs7r2//OExK8oNCIwAVkwAT/sHRBDsWU3RUpogSJ9FukvVbapAQEDAFjmsc+WbiD7LkcH91Ype8lF7GIRRX8DlwFqRm5nLKa7SvtAkbpb9QMhlmHEM2PQBl+8tTt37mNPUjExq7cVvSaaqEIKSHHHx1c5y9jbne526OHLMoZY5BdRrhnUYOTphnGIF9hZoaoZN3bWNfG3czpLGEkmZTTSztPufzytgYIDgBlwqdal6gbrRRMx255iH0+NrLPD6n1LVS/b//OExMFILDo4AZrQALc1ncu/lSarW8q+6O/Pvi0+D4RK2PsQbSedhiD9yeifth+eOuZ2Lljm9f93OxhvK1UzytVcNat2abGW535Th+dNVsSi847vxfj8P/dfhx5QmBAkOLPZQ7jD2Jw+0CJuOqIw0PLbGtVBgQEYK+mFBAEDAImnFARgu+dISIewEntgHEqxHTPFWn9TTc2A5UOVqtZMYur9RWKSG+ZUVW295eRpm2GoQE8E4a6iCsgE0O9XNxKp//OExFM7u9J8AZt4AdBFCjn8YCQBuOKLfQmYt4Cq8W4eoJ1k+IpVt98JNgHQjjNHaKcJuS2DBVkLwdIc1UYSFueL+HgTR06HrORVrUWDR/GVXg2h2rrV4Po6h7zrf3/1y0s3eDoMtDGZwf9wZ4+VcroOoUaMzTOV8brWbHt/82f+e/1/AgP75pf0fwbPKRlRFn1uLGgwrfWM/Ntet6xoV5iv3TrXMvwz+1ElrMrLiHfgQcDCIRMB9zs2oyotGikw//OExBctTAJ4AdtoAEIk+5DEhQCTpd20+9y1lUh3HAe5YlMGuZl1Gg7rTQRWZmSVRdYzKYwJkSAcgP4VULAB7BYEIpj4SpqShIjxLg+DgGHGSHgG6HKHsJWLAYU0JQdpSTMi4brNSeYFMkzASoeJoik6a0mRqSdTstO6SkjFzNFJJOyLoIv///92sn1IsqpbMcNWMnr29v//66tktH/stNFquhar7JJHhM/1Kl9Ty7jKJg80ET5R/Ns/TxxMwUZM//OExBQrauJwAN4auAgUyMgZJD0MjQ01a/YWp/cJTh3FoOPalLz6G1/zGH/Q59uSy1v4Ds9quLlRdTnkr9wCNKXe6ipEIF0E8G4HMGHBxgcwqpMHgAih5EkN4swtJGNh3FrmY9B6oEmOwpHCRHYVjURilm5yulSTVW5w0dfqUXkuYVUTZNNu///61syLoO3qU6azVApicPHv/8Vabb32OTYdCBgikRWAn5FAISwoed6x23MBNI1iGhkDgoQGGiW7//OExBktQ/5wAOPQ3RDE4BgbDtuIMrsZwDyZMMidt4WMfN8v40NjT8eN2R/O8euUMmBeTnIwTM3jjOE9AC4B2EJJK9NIuUMwTFIKW56vywW+zVJNe+9btJjVrxLX2FQ5HwPqCe4GTZ46LsOXZ24r0St1q5OrqE5h+E/////iKmJ16rTqqlGswYpU9Rp/P9T/p/187Whg+OqRPee9+KqGbtrWxaUodGhG838Z2sAGiCpFfrFeBe0GFwkwo3AtSVX7//OExBcplCp8AMJM3fLst1pVU22dhdYoynEsjVJFGhIfJRZNXUZhmFGLohsztII+J1qUI6x5TXbrNJjK7UPj6kxfuTdjo7a/0Wmydwikg06Vm5lxhemZu3Hu7vxEffD7+7+PmN2iMxttnhyojfeO3smZ4TeDHZ73/v6bvL7HfYiMtPc/ffDvBmebYqZ+/7B6fMIRt791CE0LT5jsFR6H54OSzN4rj0bbWGmWzGsv/ij8dO/eYZEMZwpI08VSszaF//OExCMoBCZ8AGJM3ZkWRKhqSJhdh14xKLDUWG03yWQ5IjQZU82ca8Donl6t6eIKt4SMNRo7OtVMuEtnvLjdSuO/2ozzmtXrHh3cTbP7iPEe9XG27yfTE4na/6bK1TLkuu2G9tm3RYzv3MKb673pSRe5te+25tHNNJ2z8qjy62ERI5B6lLKo8gTyzKeLxJhVJY//860+eUvxsn0y4uqXhppE2CzDZFMTMHYNzYcqDC0SttvPLnLEWbMm5bYjpSnn//OExDYnvDp0ADGQ3DdbSGcg+iCppVJupa1nqba6tnmYGXMczTNEyu1o8wT8CzDTbqhm51EzaKNQtGOlF+jhhI+amMSPZ2THNLdytGvaFue0cKHw+1RhjwLINIcJkLNHYmU9xWRILiRx4uFRYUySYHiexpp58CDnICDNM5sTQNdokujqP3pNu6kFvTPCZSmPPJpKSd3IuyfdnL1ka07qLylcbSh6XNHtcZPVQ1tHLLISrGRT0NpxqweNqnrLc6IK//OExEon9Dp0AAmQ3DEeCOD1OLenrmdq6Sqt6aXgXZKlxxCM5g4ZBSQIZNwQeMFKFziSqRbk+R/89y+0wPc/1HwsuZdvDF0c4wwQB4xVkXEBBGDwGgUmBQPDShpLsZSCTMguwc6ceFHhnu/27WzQQgyYhk55JZAxOH+asDQbL4O0ZKE6mQlOON1PYdkd5zqk5jC6JYoq0autx9RuHzf10bTkm9spNv3ZW/xMbsN/jZpU22J9t/b3n3W75rTmb/hc//OExF0llDaEADGM3DT6z1BTr7E5hI1o09Dn/0yPayCa5/K3ISlsa4uWw1Mq/CzHPaDa5cGrinBq+Ygig9nFsc6JYb0YOaqo/kgU7AQY1RwdBpKGDan2yEWUILuCZFSacazaKR8xyA0RZMEuOJTATQC+S5SGuIXIUoDiLxJpKMcxMjY6pzJJSky6XTj1nlLQSVeicOG9Z9U4plrUutmOF51nnM0jh49qYpWQ0pCsg7AjcylZPflKWZ2vR6tKyStX//OExHknlAKAANRE3bI/83VtkrKhn05WlKpX0+Z6+b5W6G1K3Mrcsyl2Q0wE+T/vj0FqUckbVBwCzB1DzBYDVYldgAITiUtxIUU31smAhJmUREJGiIDkvTJT4B4gkJOGXlMejjDwBx4KfUxIEk39g1i9v/fG3/6ou/9yr3/r4f+6ax+9Ve8zoIHpkyeDyQjyCAct1ZAW8iHlKPCXpGiKQOMeaFMl3ZJRcZSzAwIwlhfPGaZmyvb/////////st50//OExI0m+vJsAO7auOsQaIlMW7///x5UgJjP0WePe8iV5jkHpQbbeTwEBg44LaJylDMwsCQFaaUB4QgshoA8egc0EgnIpjcAUHQIiYKMWiGgYFB5NKOD5HIrj+Sdah1NqIM2xLUZ0kNRGdRHGqJmPAKhsblcWskmdRSLdUiebkaMmePFwohtZotajdbyfQPnHIKOUQos8khxpOyDPo////////9SjZBSSlKsgX0CYMsMaf/oR/8sI6jkNlIAMMCk//OExKQnAvZsAO1guDhCA0ljBgCBpwiTpUABOEtmYUIUYRDmDgMCoBAwBDHKjOHCVmUMAUDmBzvANmUuyWkt91E16/+ozLv/crw/8JD//cx/uc3Zx39v9cuRXEeBXABBQnCoIgTT5AKgqnR+F2WaIsLsTjlGAIBMWU8fHZU1bDIWhwiE0L4aqTkB7c7////////SZPSarSBh/eHq//lgJX/86wkqmHliBVBJn81hwdXwYBAZkBsCMvJLhcAmEC8a//OExLsnyvZwAO8UuMuUY5BxMBnyMLjs6yhBzao0FRsy9vOfJlxrkSdAQClbQUVMtWzdtvpFu5161/uF+lx1hXs8/eWXMLFNnnSUszlMg1gEREmkrmshhc2YahdTiUikYgBXBSIgVDzVMNRz3nESkSjUUEZ7Hlm/////////1uiqk04wowGOI////+bNVWFKlIQAMBAnNPisHQRLTDwimMdHGMgHmFAKmB4lGx2dGGrumHgBBcFDCoXDRgbTA8Ii//OExM4myvJ4AObUuOMYOC8Y2EqbDYBnMOGNBsZoexxocgoVGEBIYwFgWDokGUfAQAigCIPQXDjc5VGqkdh61G78Yl0jh+tH5uMXo9FIy0h0WHpjokJhslS+UupM4NjMvrcnaXKzUmsMb1+jszWc3HbMWglqErhI2EM5C5EToXdjTGJArB0VgvxPHpR///N//3///rnHHyVCIXkKkJiHFB6TKRuZtPPQy/e9dj9lfcxkdOvtppfMJFIjZkPB4BEk//OExOU4A/pkAO8U3QCBwLoyWghwYA0VAJzCVBVMkgTEwNQCjAKAMMQIWo0bzZjIfGIIgujBME4MQIQsIDZBIPBhtBYGHeHoYbIPgqVjWyyNNlM1Qjw5emD5ufhMBsAYjJsM5GgIAJiYBmBQmYBBhg0AAkABYFIAUUmVJyNNXMz9hK/1bb7orraAFgALANFRG4BBwACMFEYwoE0RGdNGYsoC+uGdmbt97cs1qfOWxqkuRqzHLmctgp42kQ2go1xX//OExLhIC/pUAPcW3E/QCRqVFp1hpBY02amoqSB3iAMDQBcjFjjsM66/51L+L6//n+KesfTPtef57531aBocYrNTxa1sTNH0udSIAlj6bplRukgrn3sv6frxTVkTx2KuWv7WVvq9jOWdMiR1r0ggbQbPezoLqoYZ8IhCahhJpgNprGDjscGa4GUKAtAadVWRmMEGABqaRG5q4koABQoGPWsZJDBhsCEwoBWEShgXFDGm4zirNFKDKiU6aGOFhTZi//OExEo5U+pkAObK3VM6EjDS0FAJACpMoSm7qTYAxN+HBYszafUHXIgUBAJEFFJWwRAhgAKIwYwECFgJ/oXNSai1Ut7v1ua3z8cfu81zX58v7lNSjjkbeB/2w2wHK6iyFI5ylUYYII44TCADBgBh8P2un/T//97EEh7k/clzjZSaetRIzKoicOlOPcOiqiB11RXESma6/X5e7o7FRyWFnHGYn2AQS9Pwaqk8h0A76l6m0ZZtGVg0rBp6a69ApeEI//OExBctOzpwAN6KvIm065sg+YoBmJpJu8IZwGYg8cqocEkCQRmHRpHokdMAUAXc4CktqZ9eI2RuRxkwZp048hRMX0FALTWVvoyp13+cpkTkqZQgHBC9ojAFynVsSd35qUzO7F7mf6z//5/cO/zfNVld7GcJQUHCkF1ujllszIHhJyiQeFxIUR0RL/////3O7M5W/2//7oyyOw0XlGjwy6TFD7iZn/2/sSvVf50QqLHbooQHLNOLeghAasYbZg6V//OExBUrqzJsAN6KvBACDBKd0rCADTsM+UQoAs9AFgemItggobMezho4GtMHcAQpUWnNTHMYAZWXkNvDEjKw4JErJflUg0MhCN5aZWtuohHN9DUN2ZVnAuV2Z/n5d/WWuZfrHn/z/5/Vs0xhYIggEcw1DLRnVklI4kJDgoPgR1VmT/////VFKqKSiWmolTpIhPxNzmIx3Gh8YJyjQzB0Amz/Rd/9LlJ0WHDJiZe2OGh+aNylqxIIIMdYVZ5giAe4//OExBkmE1ZsAN5KvF7aLDGVnD3NFMUIbZaEgKCcqymJwAyGogAKBuJkiWqn2kHsYEDsuM4NH6QNKEnWhLAh0Ebh1W2UcqX8dZfzDv773fP/v//P//////qsjmHKzVzlWfI7EQPCIajf/v////fb/9vRGZiIJKWdVSORDFYhR7uICAqHnsWtx2Ev/1oqVXL9gACD7kSASwIGOZAsRiwgYg3hkkRFBg60VE0oL3hMQE55AsL5i2Kvl3lupE1gt8oi//OExDMk+1JsAN5KvP8yJNeSu6sK7kEChtIgkMNZfzyNqRC2Gkl1Y5LIlPYXNX94b/v//8//5+//+f///dO3+2rGdaWsvTMJGUOlKZ2/////////3+pRrPNmOp1ahnGuBxMkPB0OEDIuVGBT/9VpJETAl+NFZRoCBA0ZXIstiJgRgJDTUxmcNbMA4edIIAmDBZYLqIFgJqWEOJ4saeVp0InXcVLKaVlaYLX0+cVIF40M1NyhamarkcFUEzGuROis//OExFImU4JkAN4EvFFNfjlvv91///6/f//////5v6/bSYWEbzpo1WUDAig3ZL/////////+6VVLijChLKiIYxgpRCigzCjOQzoUKMkWfUS/8fySFWeCwmC5cOblBRcChowKggcIwoA05BYHiQIMWi4wWAnbhxnSmrjs1BQqYD5r+Zi5KqimqQzrO2yjGB6KAX4V+5TjnmeaAo8QzwBMl609WgKgRWjcVf2E0m9SmrzPm//eud/9f//rv////17i//OExGsmq4JYAOZOvCi0RpqzGZmdpo1JAeLC4+1v+n/b//////siElY41jppGb62OdbdZzlBs4hO3f3fQmuBBkYOQmGDA8KmICRkkGiGQg7OloKDF4w4ciU66yiq2lKwMA3r8vdAETsqAx5yUxnIf1qiS4gGCoywZbgQqn0OY8h3FHTaeU6MjbBGh2vhUImFhpor3Q9HXlAipVyz0yap33zt9X/rdj4T3i/WS0D0GoNRS5U12Rh4dg0EwPA2D4wo//OExIMnKfJAAN5QmEIcc/9RqgvSn//M5EWpmlYl51QEWvfaM7R9FAAQWgMCC08QqUOfCEiTjv+zBzwIDY80G+pVLWLtouNpbiy1Sl7GuvPL3cdx65KwGG2MLCpLJjJ+iIKEkGsOfByZakwNL3H3hC0oSu2CO2Iy5A8OGEWlba/177/v+6WNmZF+DBsSLOlXK91E9yZY0FQjiYAMLPKhljqF+hSmpRdvv+3pW0NJYIqKLUCB6lM7qX/atusQGASm//OExJklQeo8ANYQmEyyUxWGl8WsLGbyC0p1OHZiTajkmhpNRD01ZOktQ5LOahjocxIcN5VD4ENFdVJljdLiIaaAcwqAAoIOP0hpOVayolTJ9w+c5PX87vx+7w1z2fczf+3rfrHXZzOkS2vvjt3y6ONQI84KXNMkY8Vo37WY0BYorcRZycss/kv6t/l2cKdqSP3rd7f33S9+Wezu0+793bK3s6UQYGiVHRgWrepI1JH6iMMS6rG2kwyhCUQDpyqQ//OExLcmwe4wAMPMmfyQife2OxN0LiwWhGgTX4chGWEtgoH4hHR2iafWr8izOptJq7l56endrN3795YOaSMzth1bwdIiQN0cHV2LnMl0hZ/M80aWPq0dD8SjKjGvaXmynVoPzND/Xem6PeKVSm35G0MGSAKM9ttDXZuZZ4P680Z+qDZ9/OoCYNI4Yh2XU0ts36XKrlnFoFeuHIPnH4uoh9WG4I3efpBaJ9RLZ64jyXPciYODpnksbvJ757SqLnUK//OExM8lG2IkAMMGvYvP32aHb0rKN9CjZ6LaPb+RSx8zeacwuHbJpA8468eUFIxR5flZRI428hUIwZzi3rvr2RCLh9PKFVuXZc6Nl4XhskaKKycVOoF5hwq15NYyTBFaj/WFgqJSOOb0NLUMUlflLIKSY7DzE2onD7WJb8xKgqVx2fIaaa738yoJYps5canozLtzGdbCNTViYoG+qy13X5GmxEeFeie1JdE5CTMo/FQ+q1hLEl1S5FZRezG03FjM//OExO0tVDoQAMMM3GSgmNMoZEJCyoib1aVVJ8orNSTZdPUXJTo4oDkVp8tF1Rl4cck95qMeUtOJXjTtPOVaJSMrIySpPJ2R6KGHybKLbvw95ya+uikkhVs8MeNRnwlFaSS1rTyHZLalM2NwlneiJclxJuU53OYHGo8uSJIiWoyJbvqXjlUc5yGWH7Iai0rq9tY26fHf2KaXUD6xHOluNGkQiZXQrUsWQolmED+xPabskSSXiojtqryJM48wefay//OExOos9B4EAMJM3ft9erVbuonpRnO6exJC+KNGxJomUT5h6i8dSBtkvQ9uabKl2RlIKbLQSy1m57h6LMNbIVqlRUrY441InaMYcnlOm01UILPYDqj7O3FZtWxVoPC0e2PPJ7r1FNW6nJjygdL3wOm6SNTJe0VL1q6PiXAt/ZYwusO+p4AVKRNWm5vCnq5S3O9Xr/btyi1nVnTSysfCkmxojmGyxULlGRwBBMhHlk50sQqliSCJEtrUEas2VyJk//OExOkr3DH4AMpM3Y54tfkRyL5+ONaWxhUnOZWJqodIaa1oqVazN2pQGkDRocupaM03+KnDZG2mikUmk25E7N49MPczg7Meg+AnauTRI3hOgMSLVSEMOLebXrGqPbo56o0z3QJrpvBFOolkJo+i55Fkj00aKOvt2Gygwkw9Ezb6WJfVxY75oqopE5TPMv+tal/KCn5EcqWV1KnLyUB4eyaVEAYOmzkySXCKhOqwSJkTKaFLNMa+OEKlphvCJWaZ//OExOwtDBH0ANJM3aTNkz2MZ7Z/F2CJptmzha4XErz0RHEkUnhwyKzaSkRbHlEHmkkH+McXWghBo7dktbUZnX6BInjf4iDRaNMYScnU/4mTRkqSBVJ0tJpisRWenDRWxHGoCE92JuSqdPHe0kjTyXT/pmW0ZSTtCRxBmbr15xVWZ0zsmkyzh9UnE8/dzt6zdp+1rs/J8KWm7utikhaJSZpddM8KmEbKbL0DBckMmEnq8sIaQYVFzr4nJ1BdChtS//OExOosjCn0ANJM3Wwm2Zk19cjSlpAkWQzFUaf2W4QiogxFIkm+wQuUFZLJVj+Td3nMy63Hoyy4iPeSPTIOfLThPfpxaRKtJ40EaZoK1ExbFvKQ80wmzqtJOIE5kl1peX92U8uolMHa2ybTl38Mimk2a0BbkZMp3hOGt3n/YS0XTR0hdSlLjhrDGUSzG7UllSmg7mV/XaSKn2XLyUJzBgmePKJkyzAhIaMCVllEdcZGy4euoExGKRU8iMBFUPoG//OExOorpAn0ANJM3UQIsYEjAnemxWRi2Q/EGnG0YEGyMUkzFkZKCx9CTDBRf6ejrMSonCNmLh7HQSpjbwpOeXdyqhDKiUEudGUSC0yss/KJhsgCrW+rWTRDwRlRsEtw1EiYj8aNJ095Wu7ZeoBQuUUYg5AFKiYgaUwEtErEXsWy1AdmEWj26SS8aBqJOjXPsLUp0rby3lXy5ljbw5lNXK+vtbOIyPE1iCNkjlWSOK2ka6qh/SuI2dkkwQzYuTeo//OExO4v5C3wANJM3fq9RlZAY3ZKqYzSJZy+LOlJDFKlmk5qceEGMJsAw2LEhTCCQwEaQY1qnxFFuGBIkJXOiRYweihR5k5HX46OcUEm7QpAquajJBmyDUMihgcAjaCzFS76sEOghPgKB3YSipKRmroWQMUCo8h+inmjmFEa+JDcTl29qilLdqYy2xYtUV69KOW6POWxjPOntOSawVLNIOuI20QfYH0QUFjYoFto45EqLlYEaRCgQSX0fwnZksqw//OExOEpTBH4AMpG3YzADDogZE5qzaFYPTLpuWogZRMCWIeQpEUqNtC2QJnhlkSzSCSaatNJ/B3JaciGJjy9B0EgUmx0Oa7gNgYzufTlZR9poWTpJ0U0SUwq9tSNKLqjrLms7wlZLTTdp9FEYuT7OK57iTGctSk/pKq00w+5U01O2jiG8TGbIFGSR1CNmSRVbhk9Bjg3WkaIrqNjpcomTGpiRtz/hGD5Nq+axIYF6gyjoElopqHFjZfUzEU2yyso//OExO4wLDHwANJM3R7JMKoJxnTlE5ssRcvObXjCJmlLghQKzxPRJkZJBpnY3IT76qYmmtvi2/UBHpkGJAQGzGR13rssIT1oSbYpOtlreqpfTnHxKK11o3ZidHzDpsjDXqfvYMtVfS82H9025Hxv3fbfchsZVr7EmaNMKf10S9+u3/M3UNUr7YzM5AOUNT+Fq1X5MT1DJ5TP0MzSocTCQSdMqEs5LK1YfkkUGscRaDoxuSKPi0uVWCeYqzsxZWnx//OExOApZDn4AKJM3DTNYhmbjjx2Tx5XJC5EYcV41yCX2fQxrZJ7pKXk2llLzorRrCNwPEq8mGRkqR+nki5OqV563TNFyk8PIIIuslKYsifhpGznRMnzhrEbNkmiM/LnEJsKHZJzcXfE4ZfIF5w7ChlF4ImJ3JS0owjCSM8+ollljaMmiRJG3MHZRI7RWaL0pgp1hVZ6RKogTk+Sa6mRYUIRXDH2gtiMNvT6LdIFMk0Ei620fOQQNDsNSqO0lekp//OExO02pDnoANMS3OK5clOHdJs0su9D40QqE3omTQxjiJNrqs/zIYJaNAabyW9YmIVHwRKsrPj/eXkcj1Wf9lGCKbPloJVpGQCGry1diRY2W7bJyXltltk7XhKfLFmBLejYqqNRJbVtvZKfLXnLQSklatw1EpJiW814WAYmNaf67Etmf+cS1q8yaj9nGSYlpyWfTW3HnX/9JeKaCkjviulVAKiwdCQn2txoTTXKfWDYck87apZVKY9QU96/iREG//OExMUpk+XwAMJM3RIGYmgtRIFFChZBPNyplnZ2vNqadpOLMi83s/3Zp2eiyirzcqad43Nyppnjc2TjSzLzcqaZ2fuzsz5ubNFvF5qJIFFAR6CalokjSzE83EjTij4vNRJGmmXG5s0c8Xm5UmtcblScc8b/3b//+Wd23NypZrjcqTjS4HLBNA5MQU1FMy4xMDBVVVVVVVVVVVVVVVVVVVVVVVVVVVVVVVVVVVVVVVVVVVVVVVVVVVVVVVVVVVVV//OExNEmg7GEAMGM3VVVVVVVVVVVVVVVVVVVVVVVVVVVVVVVVVVVVVVVVVVVVVVVVVVVVVVVVVVVVVVVVVVVVVVVVVVVVVVVVVVVVVVVVVVVVVVVVVVVVVVVVVVVVVVVVVVVVVVVVVVVVVVVVVVVVVVVVVVVVVVVVVVVVVVVVVVVVVVVVVVVVVVVVVVVVVVVVVVVVVVVVVVVVVVVVVVVVVVVVVVVVVVVVVVVVVVVVVVVVVVVVVVVVVVVVVVVVVVV\" type=\"audio/mpeg\" />\n                    Your browser does not support the audio element.\n                </audio>\n              "
                },
                "metadata": {}
              }
            ]
          }
        },
        "741b9e16cdba4354901c19438a465b86": {
          "model_module": "@jupyter-widgets/base",
          "model_name": "LayoutModel",
          "model_module_version": "1.2.0",
          "state": {
            "_model_module": "@jupyter-widgets/base",
            "_model_module_version": "1.2.0",
            "_model_name": "LayoutModel",
            "_view_count": null,
            "_view_module": "@jupyter-widgets/base",
            "_view_module_version": "1.2.0",
            "_view_name": "LayoutView",
            "align_content": null,
            "align_items": null,
            "align_self": null,
            "border": null,
            "bottom": null,
            "display": null,
            "flex": null,
            "flex_flow": null,
            "grid_area": null,
            "grid_auto_columns": null,
            "grid_auto_flow": null,
            "grid_auto_rows": null,
            "grid_column": null,
            "grid_gap": null,
            "grid_row": null,
            "grid_template_areas": null,
            "grid_template_columns": null,
            "grid_template_rows": null,
            "height": null,
            "justify_content": null,
            "justify_items": null,
            "left": null,
            "margin": null,
            "max_height": null,
            "max_width": null,
            "min_height": null,
            "min_width": null,
            "object_fit": null,
            "object_position": null,
            "order": null,
            "overflow": null,
            "overflow_x": null,
            "overflow_y": null,
            "padding": null,
            "right": null,
            "top": null,
            "visibility": null,
            "width": null
          }
        },
        "a33955fe74b54e0ba08c9b8a63e99811": {
          "model_module": "@jupyter-widgets/base",
          "model_name": "LayoutModel",
          "model_module_version": "1.2.0",
          "state": {
            "_model_module": "@jupyter-widgets/base",
            "_model_module_version": "1.2.0",
            "_model_name": "LayoutModel",
            "_view_count": null,
            "_view_module": "@jupyter-widgets/base",
            "_view_module_version": "1.2.0",
            "_view_name": "LayoutView",
            "align_content": null,
            "align_items": null,
            "align_self": null,
            "border": null,
            "bottom": null,
            "display": null,
            "flex": null,
            "flex_flow": null,
            "grid_area": null,
            "grid_auto_columns": null,
            "grid_auto_flow": null,
            "grid_auto_rows": null,
            "grid_column": null,
            "grid_gap": null,
            "grid_row": null,
            "grid_template_areas": null,
            "grid_template_columns": null,
            "grid_template_rows": null,
            "height": null,
            "justify_content": null,
            "justify_items": null,
            "left": null,
            "margin": null,
            "max_height": null,
            "max_width": null,
            "min_height": null,
            "min_width": null,
            "object_fit": null,
            "object_position": null,
            "order": null,
            "overflow": null,
            "overflow_x": null,
            "overflow_y": null,
            "padding": null,
            "right": null,
            "top": null,
            "visibility": null,
            "width": "70%"
          }
        },
        "b429d923a5d541dc9470ce918581d73c": {
          "model_module": "@jupyter-widgets/controls",
          "model_name": "DescriptionStyleModel",
          "model_module_version": "1.5.0",
          "state": {
            "_model_module": "@jupyter-widgets/controls",
            "_model_module_version": "1.5.0",
            "_model_name": "DescriptionStyleModel",
            "_view_count": null,
            "_view_module": "@jupyter-widgets/base",
            "_view_module_version": "1.2.0",
            "_view_name": "StyleView",
            "description_width": ""
          }
        },
        "65282ba7d31c4483b241210ea78d837a": {
          "model_module": "@jupyter-widgets/base",
          "model_name": "LayoutModel",
          "model_module_version": "1.2.0",
          "state": {
            "_model_module": "@jupyter-widgets/base",
            "_model_module_version": "1.2.0",
            "_model_name": "LayoutModel",
            "_view_count": null,
            "_view_module": "@jupyter-widgets/base",
            "_view_module_version": "1.2.0",
            "_view_name": "LayoutView",
            "align_content": null,
            "align_items": null,
            "align_self": null,
            "border": null,
            "bottom": null,
            "display": null,
            "flex": null,
            "flex_flow": null,
            "grid_area": null,
            "grid_auto_columns": null,
            "grid_auto_flow": null,
            "grid_auto_rows": null,
            "grid_column": null,
            "grid_gap": null,
            "grid_row": null,
            "grid_template_areas": null,
            "grid_template_columns": null,
            "grid_template_rows": null,
            "height": null,
            "justify_content": null,
            "justify_items": null,
            "left": null,
            "margin": null,
            "max_height": null,
            "max_width": null,
            "min_height": null,
            "min_width": null,
            "object_fit": null,
            "object_position": null,
            "order": null,
            "overflow": null,
            "overflow_x": null,
            "overflow_y": null,
            "padding": null,
            "right": null,
            "top": null,
            "visibility": null,
            "width": null
          }
        },
        "e6cb2dd0c77b4c25a7be6f9324420660": {
          "model_module": "@jupyter-widgets/controls",
          "model_name": "ButtonStyleModel",
          "model_module_version": "1.5.0",
          "state": {
            "_model_module": "@jupyter-widgets/controls",
            "_model_module_version": "1.5.0",
            "_model_name": "ButtonStyleModel",
            "_view_count": null,
            "_view_module": "@jupyter-widgets/base",
            "_view_module_version": "1.2.0",
            "_view_name": "StyleView",
            "button_color": null,
            "font_weight": ""
          }
        },
        "9c16aa030ce0435f856f1edd2224c56f": {
          "model_module": "@jupyter-widgets/base",
          "model_name": "LayoutModel",
          "model_module_version": "1.2.0",
          "state": {
            "_model_module": "@jupyter-widgets/base",
            "_model_module_version": "1.2.0",
            "_model_name": "LayoutModel",
            "_view_count": null,
            "_view_module": "@jupyter-widgets/base",
            "_view_module_version": "1.2.0",
            "_view_name": "LayoutView",
            "align_content": null,
            "align_items": null,
            "align_self": null,
            "border": null,
            "bottom": null,
            "display": null,
            "flex": null,
            "flex_flow": null,
            "grid_area": null,
            "grid_auto_columns": null,
            "grid_auto_flow": null,
            "grid_auto_rows": null,
            "grid_column": null,
            "grid_gap": null,
            "grid_row": null,
            "grid_template_areas": null,
            "grid_template_columns": null,
            "grid_template_rows": null,
            "height": null,
            "justify_content": null,
            "justify_items": null,
            "left": null,
            "margin": null,
            "max_height": null,
            "max_width": null,
            "min_height": null,
            "min_width": null,
            "object_fit": null,
            "object_position": null,
            "order": null,
            "overflow": null,
            "overflow_x": null,
            "overflow_y": null,
            "padding": null,
            "right": null,
            "top": null,
            "visibility": null,
            "width": null
          }
        }
      }
    }
  },
  "nbformat": 4,
  "nbformat_minor": 0
}